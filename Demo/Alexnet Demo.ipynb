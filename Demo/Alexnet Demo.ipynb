{
 "cells": [
  {
   "cell_type": "code",
   "execution_count": 1,
   "metadata": {},
   "outputs": [],
   "source": [
    "import torch\n",
    "torch.manual_seed(0)\n",
    "from Models.AlexNet import train_alexnet\n",
    "from torchvision import transforms\n",
    "import torch.optim as optim"
   ]
  },
  {
   "cell_type": "code",
   "execution_count": 2,
   "metadata": {},
   "outputs": [],
   "source": [
    "data_transforms = transforms.Compose([transforms.ToTensor()]) \n",
    "data_folder = \"/ifs/loni/faculty/farshid/aimg/data/bigdata/\"\n",
    "data_csv = \"/ifs/loni/faculty/farshid/aimg/data/bigdata_info/Gender_all.csv\""
   ]
  },
  {
   "cell_type": "code",
   "execution_count": 3,
   "metadata": {},
   "outputs": [
    {
     "name": "stdout",
     "output_type": "stream",
     "text": [
      "\n",
      "Usage:\n",
      "from Models.3D_AlexNet import train_alexnet\n",
      "trainer = train_alexnet()\n",
      "data_folder = '../data'\n",
      "data_csv = '../data/distribution.csv'\n",
      "trainer.set_params(num_classes = 2,in_channels = 1,data_folder,data_csv,learning_rate = 1e-3,step_size = 5,gamma = 0.01,cuda = 'cuda:0')\n",
      "trainer.train()\n",
      "parameters:\n",
      "num_classes: the number of classes in dataset\n",
      "in_channels: the number of channels in the input image\n",
      "data_folder: the directory where the data is present\n",
      "data_csv: the csv where the data and class map is given\n",
      "learning_rate: the learning rate for gradient update\n",
      "step_size: for reducing the learning rate\n",
      "gamma: reduction ratio in the learning_rate\n",
      "cuda: cuda gpu number\n",
      "batch_size: the number of examples to be used for gradient update\n",
      "\n"
     ]
    }
   ],
   "source": [
    "train = train_alexnet()"
   ]
  },
  {
   "cell_type": "code",
   "execution_count": 4,
   "metadata": {},
   "outputs": [],
   "source": [
    "train.set_params(\n",
    "     num_classes = 2,\n",
    "     in_channels = 1,\n",
    "     data_folder = data_folder,\n",
    "     data_csv = data_csv,\n",
    "     channels = [32, 32, 54, 54, 54],\n",
    "     kernel_size = [3, 3, 3, 3, 3],\n",
    "     strides = [1,1,1,1,1],\n",
    "     padding = [1, 0, 1, 1, 1],\n",
    "     data_transforms = data_transforms,\n",
    "     filename_label = 'Subject',\n",
    "     class_label = 'gender',\n",
    "     learning_rate = 0.004122364977327922,\n",
    "     step_size = 7,\n",
    "     gamma = 0.2,\n",
    "     cuda = 'cuda:5',\n",
    "     batch_size = 16,\n",
    "     image_scale = 156,\n",
    "     file_type = ('t1w.nii.gz'),\n",
    "     l2 = 3e-4,\n",
    "     optimizer = optim.RMSprop,\n",
    "     num_epochs = 20)"
   ]
  },
  {
   "cell_type": "code",
   "execution_count": 5,
   "metadata": {},
   "outputs": [
    {
     "name": "stdout",
     "output_type": "stream",
     "text": [
      "{-1: 0, 1: 1}\n",
      "{-1: 0, 1: 1}\n",
      "156 <class 'torch.optim.rmsprop.RMSprop'> CrossEntropyLoss() 16 [1, 1, 1, 1, 1] [32, 32, 54, 54, 54] [3, 3, 3, 3, 3] [1, 0, 1, 1, 1] 0.004122364977327922\n"
     ]
    },
    {
     "name": "stderr",
     "output_type": "stream",
     "text": [
      "\r",
      "  0%|          | 0/20 [00:00<?, ?it/s]"
     ]
    },
    {
     "name": "stdout",
     "output_type": "stream",
     "text": [
      "Epoch 0/19\n",
      "----------\n",
      "train Classification Loss: 13113.2695 Acc: 0.4499\n"
     ]
    },
    {
     "name": "stderr",
     "output_type": "stream",
     "text": [
      "\r",
      "  5%|▌         | 1/20 [06:29<2:03:24, 389.71s/it]"
     ]
    },
    {
     "name": "stdout",
     "output_type": "stream",
     "text": [
      "val Classification Loss: 113.1648 Acc: 0.4658\n",
      "\n",
      "Epoch 1/19\n",
      "----------\n"
     ]
    },
    {
     "ename": "RuntimeError",
     "evalue": "CUDA out of memory. Tried to allocate 7.24 GiB (GPU 5; 31.72 GiB total capacity; 22.92 GiB already allocated; 663.88 MiB free; 30.01 GiB reserved in total by PyTorch)",
     "output_type": "error",
     "traceback": [
      "\u001b[0;31m---------------------------------------------------------------------------\u001b[0m",
      "\u001b[0;31mRuntimeError\u001b[0m                              Traceback (most recent call last)",
      "\u001b[0;32m<ipython-input-5-7596ba849953>\u001b[0m in \u001b[0;36m<module>\u001b[0;34m\u001b[0m\n\u001b[0;32m----> 1\u001b[0;31m \u001b[0mtrain\u001b[0m\u001b[0;34m.\u001b[0m\u001b[0mtrain\u001b[0m\u001b[0;34m(\u001b[0m\u001b[0;34m)\u001b[0m\u001b[0;34m\u001b[0m\u001b[0;34m\u001b[0m\u001b[0m\n\u001b[0m",
      "\u001b[0;32m~/model/NiftyTorch.v0.0.1/Models/AlexNet.pyc\u001b[0m in \u001b[0;36mtrain\u001b[0;34m(self, trial)\u001b[0m\n",
      "\u001b[0;32m~/model/NiftyTorch.v0.0.1/Models/Trainer.pyc\u001b[0m in \u001b[0;36mtrain_model\u001b[0;34m(model, criterion, optimizer, scheduler, dataloaders, dataset_sizes, device, num_epochs, demographic)\u001b[0m\n",
      "\u001b[0;32m/ifs/loni/faculty/farshid/aimg/deepmedical/lib/python3.6/site-packages/torch/tensor.py\u001b[0m in \u001b[0;36mbackward\u001b[0;34m(self, gradient, retain_graph, create_graph)\u001b[0m\n\u001b[1;32m    193\u001b[0m                 \u001b[0mproducts\u001b[0m\u001b[0;34m.\u001b[0m \u001b[0mDefaults\u001b[0m \u001b[0mto\u001b[0m\u001b[0;31m \u001b[0m\u001b[0;31m`\u001b[0m\u001b[0;31m`\u001b[0m\u001b[0;32mFalse\u001b[0m\u001b[0;31m`\u001b[0m\u001b[0;31m`\u001b[0m\u001b[0;34m.\u001b[0m\u001b[0;34m\u001b[0m\u001b[0;34m\u001b[0m\u001b[0m\n\u001b[1;32m    194\u001b[0m         \"\"\"\n\u001b[0;32m--> 195\u001b[0;31m         \u001b[0mtorch\u001b[0m\u001b[0;34m.\u001b[0m\u001b[0mautograd\u001b[0m\u001b[0;34m.\u001b[0m\u001b[0mbackward\u001b[0m\u001b[0;34m(\u001b[0m\u001b[0mself\u001b[0m\u001b[0;34m,\u001b[0m \u001b[0mgradient\u001b[0m\u001b[0;34m,\u001b[0m \u001b[0mretain_graph\u001b[0m\u001b[0;34m,\u001b[0m \u001b[0mcreate_graph\u001b[0m\u001b[0;34m)\u001b[0m\u001b[0;34m\u001b[0m\u001b[0;34m\u001b[0m\u001b[0m\n\u001b[0m\u001b[1;32m    196\u001b[0m \u001b[0;34m\u001b[0m\u001b[0m\n\u001b[1;32m    197\u001b[0m     \u001b[0;32mdef\u001b[0m \u001b[0mregister_hook\u001b[0m\u001b[0;34m(\u001b[0m\u001b[0mself\u001b[0m\u001b[0;34m,\u001b[0m \u001b[0mhook\u001b[0m\u001b[0;34m)\u001b[0m\u001b[0;34m:\u001b[0m\u001b[0;34m\u001b[0m\u001b[0;34m\u001b[0m\u001b[0m\n",
      "\u001b[0;32m/ifs/loni/faculty/farshid/aimg/deepmedical/lib/python3.6/site-packages/torch/autograd/__init__.py\u001b[0m in \u001b[0;36mbackward\u001b[0;34m(tensors, grad_tensors, retain_graph, create_graph, grad_variables)\u001b[0m\n\u001b[1;32m     97\u001b[0m     Variable._execution_engine.run_backward(\n\u001b[1;32m     98\u001b[0m         \u001b[0mtensors\u001b[0m\u001b[0;34m,\u001b[0m \u001b[0mgrad_tensors\u001b[0m\u001b[0;34m,\u001b[0m \u001b[0mretain_graph\u001b[0m\u001b[0;34m,\u001b[0m \u001b[0mcreate_graph\u001b[0m\u001b[0;34m,\u001b[0m\u001b[0;34m\u001b[0m\u001b[0;34m\u001b[0m\u001b[0m\n\u001b[0;32m---> 99\u001b[0;31m         allow_unreachable=True)  # allow_unreachable flag\n\u001b[0m\u001b[1;32m    100\u001b[0m \u001b[0;34m\u001b[0m\u001b[0m\n\u001b[1;32m    101\u001b[0m \u001b[0;34m\u001b[0m\u001b[0m\n",
      "\u001b[0;31mRuntimeError\u001b[0m: CUDA out of memory. Tried to allocate 7.24 GiB (GPU 5; 31.72 GiB total capacity; 22.92 GiB already allocated; 663.88 MiB free; 30.01 GiB reserved in total by PyTorch)"
     ]
    }
   ],
   "source": [
    "train.train()"
   ]
  },
  {
   "cell_type": "code",
   "execution_count": null,
   "metadata": {},
   "outputs": [],
   "source": []
  }
 ],
 "metadata": {
  "kernelspec": {
   "display_name": "Python 3",
   "language": "python",
   "name": "python3"
  },
  "language_info": {
   "codemirror_mode": {
    "name": "ipython",
    "version": 3
   },
   "file_extension": ".py",
   "mimetype": "text/x-python",
   "name": "python",
   "nbconvert_exporter": "python",
   "pygments_lexer": "ipython3",
   "version": "3.6.10"
  }
 },
 "nbformat": 4,
 "nbformat_minor": 4
}
