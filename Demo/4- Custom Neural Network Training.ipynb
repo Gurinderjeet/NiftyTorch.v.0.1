{
 "cells": [
  {
   "cell_type": "markdown",
   "metadata": {},
   "source": [
    "# Custom Neural Network Training\n",
    "In this tutorial we will be training a custom neural networks using the NiftyTorch library.  \n",
    "\n",
    "We will build a module which is a combination of both **ShuffleNet** and **ResNet** architecture by combining the shuffleunit from ShuffleNet and bottleneck unit from ResNet.  \n",
    "\n",
    "We will start by importing the neccessary modules."
   ]
  },
  {
   "cell_type": "code",
   "execution_count": 1,
   "metadata": {},
   "outputs": [],
   "source": [
    "from niftytorch.Layers.Convolutional_Layers import ShuffleUnit\n",
    "from niftytorch.Layers.Convolutional_Layers import Bottleneck\n",
    "from niftytorch.Layers.Convolutional_Layers import conv3x3\n",
    "import torch.nn as nn\n",
    "from torch.optim import lr_scheduler\n",
    "import torch.optim as optim\n",
    "from niftytorch.Loader.Classification_DataLoader import ImageFolder\n",
    "import torch\n",
    "from torchvision import transforms\n",
    "from niftytorch.Models.Trainer import train_model\n",
    "import os"
   ]
  },
  {
   "cell_type": "markdown",
   "metadata": {},
   "source": [
    "<p>The type of architecture we are going to follow is the following:\n",
    "SH1 (ADD) --> SH2 (CONCAT) --> SH3(ADD) --> CN1 --> BN1 --> CN2\n",
    "    \n",
    "Here SH refers to ShuffleNet Unit with Addition or Concation of grouped convolutions tensors.\n",
    "     BN refers to Bottleneck layer from resent.\n",
    "     CN refers to a 3x3 Convolutional Layer.\n",
    "</p>\n",
    "\n",
    "<p>We start by defining the network architecture in pytorch</p>"
   ]
  },
  {
   "cell_type": "code",
   "execution_count": null,
   "metadata": {},
   "outputs": [],
   "source": [
    "class Neural_Network(nn.Module):\n",
    "    def __init__(self):\n",
    "        super(Neural_Network, self).__init__()\n",
    "        # This is an example of how to make a hypothetical network using parts of ShuffleNet and ResNet\n",
    "        self.sh1 = ShuffleUnit(in_channels = 1, out_channels = 12, groups=1,grouped_conv=True, combine='add',compresstion_ratio = 4)\n",
    "        self.sh2 = ShuffleUnit(n_channels = 12, out_channels = 36, groups=2,grouped_conv=True, combine='concat',compresstion_ratio = 2)\n",
    "        self.sh3 = ShuffleUnit(in_channels = 36, out_channels = 36, groups=2,grouped_conv=True, combine='add',compresstion_ratio = 2)\n",
    "        self.cn1 = conv3x3(in_planes = 36,out_planes = 4,stride = 2) \n",
    "        self.bn1 = Bottleneck(inplanes = 4, planes = 4, stride = 1, downsample=None, groups=1,base_width=64, dilation=1, norm_layer=None,expansion = 1)\n",
    "        self.cn2 = conv3x3(in_planes = 4,out_planes = 2,stride = 2) \n",
    "        self.classifier = nn.Sequential(\n",
    "        nn.Linear(1024,128),\n",
    "        nn.ReLU(inplace=True),\n",
    "        nn.Linear(128,32),\n",
    "        nn.ReLU(inplace=True),\n",
    "        nn.Linear(32, num_classes),\n",
    "        )\n",
    "    def forward(self, x):\n",
    "        x = self.sh1(x)\n",
    "        x = self.sh2(x)\n",
    "        x = self.sh3(x)\n",
    "        x = self.cn1(x)\n",
    "        x = self.bn1(x)\n",
    "        x = self.cn2(x)\n",
    "        x = torch.flatten(x, 1)\n",
    "        x = self.classifier(x)\n",
    "        return x\n",
    "\n",
    "gamma = 0.1\n",
    "batch_size = 64\n",
    "learning_rate = 1e-3\n",
    "step_size = 15\n",
    "num_classes = 2\n",
    "loss = nn.CrossEntropyLoss()\n",
    "num_workers = 4\n",
    "data_transforms = data_transforms\n",
    "filename_label = 'Subject'\n",
    "class_label = 'disease'\n",
    "image_scale = 64\n",
    "device = torch.device('cuda:7')\n",
    "image_datasets = {x: ImageFolder(os.path.join(data_folder,x),data_csv,data_transforms,filename_label = filename_label,class_label = class_label,common = image_scale) for x in ['train', 'val']}\n",
    "dataloaders = {x: torch.utils.data.DataLoader(image_datasets[x], batch_size=batch_size,shuffle=True, num_workers=num_workers) for x in ['train', 'val']}\n",
    "dataset_sizes = {x: len(image_datasets[x]) for x in ['train', 'val']}\n",
    "\n",
    "model = Neural_Network()\n",
    "model = model.to(device)\n",
    "scheduler = lr_scheduler.StepLR\n",
    "optimizer = optim.Adam\n",
    "optimizer_ft = optimizer(model.parameters(), lr=learning_rate)\n",
    "exp_lr_scheduler = scheduler(optimizer_ft, step_size=step_size, gamma=gamma)\n",
    "train_model(model,loss,optimizer_ft,exp_lr_scheduler,dataloaders,dataset_sizes,device) "
   ]
  },
  {
   "cell_type": "markdown",
   "metadata": {},
   "source": [
    "<p>Define the location where the data is stored, the format required to read is given in getting start ipython notebook</p>"
   ]
  },
  {
   "cell_type": "code",
   "execution_count": null,
   "metadata": {},
   "outputs": [],
   "source": [
    "data_transforms = transforms.Compose([transforms.ToTensor()]) \n",
    "data_folder = \"/example/farshid/img/data/StudyName\"\n",
    "data_csv = \"/example/farshid/img/data/StudyName/labels.csv\""
   ]
  },
  {
   "cell_type": "markdown",
   "metadata": {},
   "source": [
    "Define the set of external parameters needed to run the train_model function"
   ]
  },
  {
   "cell_type": "code",
   "execution_count": null,
   "metadata": {},
   "outputs": [],
   "source": [
    "gamma = 0.1\n",
    "batch_size = 64\n",
    "learning_rate = 1e-3\n",
    "step_size = 15\n",
    "num_classes = 2\n",
    "loss = nn.CrossEntropyLoss()\n",
    "num_workers = 4\n",
    "data_transforms = data_transforms\n",
    "filename_label = 'Subject'\n",
    "class_label = 'disease'\n",
    "image_scale = 64\n",
    "device = torch.device('cuda:7')"
   ]
  },
  {
   "cell_type": "markdown",
   "metadata": {},
   "source": [
    "Define the dataloader for the training the custom network"
   ]
  },
  {
   "cell_type": "code",
   "execution_count": null,
   "metadata": {},
   "outputs": [],
   "source": [
    "image_datasets = {x: ImageFolder(os.path.join(data_folder,x),data_csv,data_transforms,filename_label = filename_label,class_label = class_label,common = image_scale) for x in ['train', 'val']}\n",
    "dataloaders = {x: torch.utils.data.DataLoader(image_datasets[x], batch_size=batch_size,shuffle=True, num_workers=num_workers) for x in ['train', 'val']}\n",
    "dataset_sizes = {x: len(image_datasets[x]) for x in ['train', 'val']}"
   ]
  },
  {
   "cell_type": "markdown",
   "metadata": {},
   "source": [
    "<p>Initialize the network structure and weights</p>"
   ]
  },
  {
   "cell_type": "code",
   "execution_count": null,
   "metadata": {},
   "outputs": [],
   "source": [
    "model = Neural_Network()\n",
    "model = model.to(device)"
   ]
  },
  {
   "cell_type": "markdown",
   "metadata": {},
   "source": [
    "Define the scheduler and the optimizer"
   ]
  },
  {
   "cell_type": "code",
   "execution_count": null,
   "metadata": {},
   "outputs": [],
   "source": [
    "scheduler = lr_scheduler.StepLR\n",
    "optimizer = optim.Adam\n",
    "optimizer_ft = optimizer(model.parameters(), lr=learning_rate)\n",
    "exp_lr_scheduler = scheduler(optimizer_ft, step_size=step_size, gamma=gamma)"
   ]
  },
  {
   "cell_type": "markdown",
   "metadata": {},
   "source": [
    "Finally "
   ]
  }
 ],
 "metadata": {
  "kernelspec": {
   "display_name": "Python 3",
   "language": "python",
   "name": "python3"
  },
  "language_info": {
   "codemirror_mode": {
    "name": "ipython",
    "version": 3
   },
   "file_extension": ".py",
   "mimetype": "text/x-python",
   "name": "python",
   "nbconvert_exporter": "python",
   "pygments_lexer": "ipython3",
   "version": "3.6.9"
  }
 },
 "nbformat": 4,
 "nbformat_minor": 4
}
